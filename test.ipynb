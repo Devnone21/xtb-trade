{
 "cells": [
  {
   "cell_type": "code",
   "execution_count": null,
   "metadata": {},
   "outputs": [],
   "source": [
    "all_candles = {}"
   ]
  },
  {
   "cell_type": "code",
   "execution_count": 14,
   "metadata": {},
   "outputs": [
    {
     "data": {
      "text/plain": [
       "True"
      ]
     },
     "execution_count": 14,
     "metadata": {},
     "output_type": "execute_result"
    }
   ],
   "source": [
    "from API import XTB\n",
    "\n",
    "API = XTB(\"15351881\", \"wx+-jLk*9Be!a%*\")\n",
    "\n",
    "#your code\n",
    "def process_symbol(key):\n",
    "    if not all_candles.get(key):\n",
    "        all_candles[key] = []\n",
    "    all_candles[key].extend(c for c in candles if 'datetime' in c.keys())\n",
    "\n",
    "# symbols = API.get_AllSymbols()\n",
    "symbol = ['AUDUSD', 'M15']\n",
    "symkey = '_'.join(symbol)\n",
    "candles = API.get_Candles(symbol[1], symbol[0], qty_candles=200)\n",
    "process_symbol(symkey)\n",
    "symbol = ['GOLD', 'M15']\n",
    "symkey = '_'.join(symbol)\n",
    "candles = API.get_Candles(symbol[1], symbol[0], qty_candles=200)\n",
    "process_symbol(symkey)\n",
    "\n",
    "API.logout()"
   ]
  },
  {
   "cell_type": "code",
   "execution_count": 6,
   "metadata": {},
   "outputs": [],
   "source": [
    "# all_symbols = {'all_symbols': symbols['returnData']}"
   ]
  },
  {
   "cell_type": "code",
   "execution_count": 12,
   "metadata": {},
   "outputs": [],
   "source": [
    "all_candles = {}\n",
    "if not all_candles.get('AUDUSD_M15'):\n",
    "    all_candles['AUDUSD_M15'] = []\n",
    "all_candles['AUDUSD_M15'].extend(c for c in candles if 'datetime' in c.keys())"
   ]
  },
  {
   "cell_type": "code",
   "execution_count": 11,
   "metadata": {},
   "outputs": [],
   "source": [
    "del all_candles"
   ]
  },
  {
   "cell_type": "code",
   "execution_count": 15,
   "metadata": {},
   "outputs": [],
   "source": [
    "import json\n",
    "with open(\"candles.json\", \"w\") as outfile:\n",
    "    json.dump(all_candles, outfile, indent=2)"
   ]
  },
  {
   "cell_type": "code",
   "execution_count": 20,
   "metadata": {},
   "outputs": [],
   "source": [
    "audusd_15 = all_candles['AUDUSD_M15']"
   ]
  },
  {
   "cell_type": "code",
   "execution_count": 24,
   "metadata": {},
   "outputs": [
    {
     "data": {
      "text/plain": [
       "{'datetime': 'Nov 8, 2023, 8:00:00 PM',\n",
       " 'open': 64088.0,\n",
       " 'close': 13.0,\n",
       " 'high': 25.0,\n",
       " 'low': -8.0}"
      ]
     },
     "execution_count": 24,
     "metadata": {},
     "output_type": "execute_result"
    }
   ],
   "source": [
    "audusd_15[200]"
   ]
  },
  {
   "cell_type": "code",
   "execution_count": 36,
   "metadata": {},
   "outputs": [
    {
     "name": "stderr",
     "output_type": "stream",
     "text": [
      "2023-11-12 16:36:33 - DEBUG - XTBApi.api - BaseClient inited\n",
      "2023-11-12 16:36:33 - INFO - XTBApi.api.Client - Client inited\n",
      "2023-11-12 16:36:34 - DEBUG - XTBApi.api.Client - took 0.9427227973937988 s.\n",
      "2023-11-12 16:36:34 - INFO - XTBApi.api.Client - CMD: login...\n",
      "2023-11-12 16:36:34 - INFO - XTBApi.api.Client - CMD: get trading hours of len 1...\n",
      "2023-11-12 16:36:34 - DEBUG - XTBApi.api.Client - took 0.015433073043823242 s.\n",
      "2023-11-12 16:36:34 - INFO - XTBApi.api.Client - CMD: done\n",
      "2023-11-12 16:36:34 - DEBUG - XTBApi.api.Client - [{'symbol': 'EURUSD', 'trading': [{'day': 7, 'fromT': 82800000, 'toT': 86400000}, {'day': 1, 'fromT': 0, 'toT': 86400000}, {'day': 3, 'fromT': 0, 'toT': 86400000}, {'day': 5, 'fromT': 0, 'toT': 79200000}, {'day': 4, 'fromT': 0, 'toT': 86400000}, {'day': 2, 'fromT': 0, 'toT': 86400000}], 'quotes': [{'day': 1, 'fromT': 0, 'toT': 86400000}, {'day': 5, 'fromT': 0, 'toT': 79200000}, {'day': 7, 'fromT': 82800000, 'toT': 86400000}, {'day': 2, 'fromT': 0, 'toT': 86400000}, {'day': 4, 'fromT': 0, 'toT': 86400000}, {'day': 3, 'fromT': 0, 'toT': 86400000}]}]\n",
      "2023-11-12 16:36:34 - DEBUG - XTBApi.api.Client - opening trade of EURUSD of 1 with BUY\n",
      "2023-11-12 16:36:34 - INFO - XTBApi.api.Client - CMD: get symbol EURUSD...\n",
      "2023-11-12 16:36:34 - DEBUG - XTBApi.api.Client - took 0.0 s.\n",
      "2023-11-12 16:36:35 - INFO - XTBApi.api.Client - CMD: done\n",
      "2023-11-12 16:36:35 - DEBUG - XTBApi.api.Client - {'symbol': 'EURUSD', 'currency': 'EUR', 'categoryName': 'FX', 'currencyProfit': 'USD', 'quoteId': 5, 'quoteIdCross': 4, 'marginMode': 101, 'profitMode': 5, 'pipsPrecision': 4, 'contractSize': 100000, 'exemode': 1, 'time': 1699649999980, 'expiration': None, 'stopsLevel': 0, 'precision': 5, 'swapType': 3, 'stepRuleId': 5, 'type': 971, 'instantMaxVolume': 2147483647, 'groupName': 'Major', 'description': 'Euro to American Dollar', 'longOnly': False, 'trailingEnabled': True, 'marginHedgedStrong': False, 'swapEnable': True, 'percentage': 100.0, 'bid': 1.06846, 'ask': 1.06861, 'high': 1.0692, 'low': 1.06555, 'lotMin': 0.01, 'lotMax': 100.0, 'lotStep': 0.01, 'tickSize': 1e-05, 'tickValue': 1.0, 'swapLong': -0.006736, 'swapShort': 0.001184, 'leverage': 3.33, 'spreadRaw': 0.00015, 'spreadTable': 1.5, 'starting': None, 'swap_rollover3days': 0, 'marginMaintenance': 0, 'marginHedged': 0, 'initialMargin': 0, 'timeString': 'Fri Nov 10 21:59:59 CET 2023', 'shortSelling': True, 'currencyPair': True}\n",
      "2023-11-12 16:36:35 - INFO - XTBApi.api.Client - CMD: trade transaction of EURUSD of mode BUY with type OPEN of 1.0...\n",
      "2023-11-12 16:36:35 - DEBUG - XTBApi.api.Client - took 0.0 s.\n",
      "2023-11-12 16:36:35 - INFO - XTBApi.api.Client - CMD: done\n",
      "2023-11-12 16:36:35 - DEBUG - XTBApi.api.Client - {'order': 564181642}\n",
      "2023-11-12 16:36:35 - INFO - XTBApi.api.Client - CMD: get trades...\n",
      "2023-11-12 16:36:35 - DEBUG - XTBApi.api.Client - took 0.0 s.\n",
      "2023-11-12 16:36:36 - INFO - XTBApi.api.Client - CMD: done\n",
      "2023-11-12 16:36:36 - DEBUG - XTBApi.api.Client - []\n",
      "2023-11-12 16:36:36 - INFO - XTBApi.api.Client - updated 0 trades\n",
      "2023-11-12 16:36:36 - INFO - XTBApi.api.Client - CMD: trade transaction status for 564181642...\n",
      "2023-11-12 16:36:36 - DEBUG - XTBApi.api.Client - took 0.0017368793487548828 s.\n",
      "2023-11-12 16:36:36 - INFO - XTBApi.api.Client - CMD: done\n",
      "2023-11-12 16:36:36 - DEBUG - XTBApi.api.Client - {'order': 564181642, 'requestStatus': 4, 'message': 'Market closed', 'customComment': None, 'ask': 0.0, 'bid': 0.0}\n",
      "2023-11-12 16:36:36 - DEBUG - XTBApi.api.Client - open_trade completed with status of 4\n",
      "2023-11-12 16:36:36 - ERROR - XTBApi.exceptions - transaction rejected with error code 4\n"
     ]
    },
    {
     "ename": "TransactionRejected",
     "evalue": "transaction rejected with error code 4",
     "output_type": "error",
     "traceback": [
      "\u001b[1;31m---------------------------------------------------------------------------\u001b[0m",
      "\u001b[1;31mTransactionRejected\u001b[0m                       Traceback (most recent call last)",
      "Cell \u001b[1;32mIn[36], line 8\u001b[0m\n\u001b[0;32m      6\u001b[0m client\u001b[39m.\u001b[39mlogin(user[\u001b[39m0\u001b[39m], user[\u001b[39m1\u001b[39m], mode\u001b[39m=\u001b[39m\u001b[39m'\u001b[39m\u001b[39mdemo\u001b[39m\u001b[39m'\u001b[39m)\n\u001b[0;32m      7\u001b[0m client\u001b[39m.\u001b[39mcheck_if_market_open([\u001b[39m'\u001b[39m\u001b[39mEURUSD\u001b[39m\u001b[39m'\u001b[39m])\n\u001b[1;32m----> 8\u001b[0m client\u001b[39m.\u001b[39;49mopen_trade(\u001b[39m'\u001b[39;49m\u001b[39mbuy\u001b[39;49m\u001b[39m'\u001b[39;49m, \u001b[39m'\u001b[39;49m\u001b[39mEURUSD\u001b[39;49m\u001b[39m'\u001b[39;49m, \u001b[39m1\u001b[39;49m)\n\u001b[0;32m      9\u001b[0m client\u001b[39m.\u001b[39mlogout()\n",
      "File \u001b[1;32md:\\Projects\\trading\\xtb\\XTBApi\\api.py:468\u001b[0m, in \u001b[0;36mClient.open_trade\u001b[1;34m(self, mode, symbol, volume)\u001b[0m\n\u001b[0;32m    466\u001b[0m \u001b[39mself\u001b[39m\u001b[39m.\u001b[39mLOGGER\u001b[39m.\u001b[39mdebug(\u001b[39mf\u001b[39m\u001b[39m\"\u001b[39m\u001b[39mopen_trade completed with status of \u001b[39m\u001b[39m{\u001b[39;00mstatus\u001b[39m}\u001b[39;00m\u001b[39m\"\u001b[39m)\n\u001b[0;32m    467\u001b[0m \u001b[39mif\u001b[39;00m status \u001b[39m!=\u001b[39m \u001b[39m3\u001b[39m:\n\u001b[1;32m--> 468\u001b[0m     \u001b[39mraise\u001b[39;00m TransactionRejected(status)\n\u001b[0;32m    469\u001b[0m \u001b[39mreturn\u001b[39;00m response\n",
      "\u001b[1;31mTransactionRejected\u001b[0m: transaction rejected with error code 4"
     ]
    }
   ],
   "source": [
    "from XTBApi.api import Client\n",
    "\n",
    "user = (\"15351881\", \"wx+-jLk*9Be!a%*\")\n",
    "\n",
    "client = Client()\n",
    "client.login(user[0], user[1], mode='demo')\n",
    "client.check_if_market_open(['EURUSD'])\n",
    "client.open_trade('buy', 'EURUSD', 1)\n",
    "client.logout()"
   ]
  },
  {
   "cell_type": "code",
   "execution_count": 34,
   "metadata": {},
   "outputs": [],
   "source": [
    "from datetime import datetime\n",
    "_td = datetime.today()\n",
    "actual_tmsp = _td.hour * 3600 + _td.minute * 60 + _td.second\n",
    "response = [{'symbol': 'GOLD', 'trading': [{'day': 2, 'fromT': 0, 'toT': 82800000}, {'day': 3, 'fromT': 0, 'toT': 82800000}, {'day': 4, 'fromT': 0, 'toT': 82800000}, {'day': 1, 'fromT': 0, 'toT': 82800000}, {'day': 5, 'fromT': 0, 'toT': 79200000}], 'quotes': [{'day': 1, 'fromT': 0, 'toT': 82800000}, {'day': 4, 'fromT': 0, 'toT': 82800000}, {'day': 5, 'fromT': 0, 'toT': 79200000}, {'day': 3, 'fromT': 0, 'toT': 82800000}, {'day': 2, 'fromT': 0, 'toT': 82800000}]}]\n",
    "market_values = {}\n",
    "for symbol in response:\n",
    "    today_values = [day for day in symbol['trading'] if day['day'] == _td.isoweekday()]\n",
    "    if today_values and (today_values['fromT'] <= actual_tmsp <= today_values['toT']):\n",
    "        market_values[symbol['symbol']] = True\n",
    "    else:\n",
    "        market_values[symbol['symbol']] = False"
   ]
  }
 ],
 "metadata": {
  "kernelspec": {
   "display_name": "Python 3",
   "language": "python",
   "name": "python3"
  },
  "language_info": {
   "codemirror_mode": {
    "name": "ipython",
    "version": 3
   },
   "file_extension": ".py",
   "mimetype": "text/x-python",
   "name": "python",
   "nbconvert_exporter": "python",
   "pygments_lexer": "ipython3",
   "version": "3.10.10"
  },
  "orig_nbformat": 4
 },
 "nbformat": 4,
 "nbformat_minor": 2
}
