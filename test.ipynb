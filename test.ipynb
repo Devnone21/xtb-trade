{
 "cells": [
  {
   "cell_type": "code",
   "execution_count": null,
   "metadata": {},
   "outputs": [],
   "source": [
    "all_candles = {}"
   ]
  },
  {
   "cell_type": "code",
   "execution_count": null,
   "metadata": {},
   "outputs": [],
   "source": [
    "from API import XTB\n",
    "\n",
    "API = XTB(\"15351881\", \"wx+-jLk*9Be!a%*\")\n",
    "\n",
    "#your code\n",
    "def process_symbol(key):\n",
    "    if not all_candles.get(key):\n",
    "        all_candles[key] = []\n",
    "    all_candles[key].extend(c for c in candles if 'datetime' in c.keys())\n",
    "\n",
    "# symbols = API.get_AllSymbols()\n",
    "symbol = ['AUDUSD', 'M15']\n",
    "symkey = '_'.join(symbol)\n",
    "candles = API.get_Candles(symbol[1], symbol[0], qty_candles=200)\n",
    "process_symbol(symkey)\n",
    "symbol = ['GOLD', 'M15']\n",
    "symkey = '_'.join(symbol)\n",
    "candles = API.get_Candles(symbol[1], symbol[0], qty_candles=200)\n",
    "process_symbol(symkey)\n",
    "\n",
    "API.logout()"
   ]
  },
  {
   "cell_type": "code",
   "execution_count": null,
   "metadata": {},
   "outputs": [],
   "source": [
    "# all_symbols = {'all_symbols': symbols['returnData']}"
   ]
  },
  {
   "cell_type": "code",
   "execution_count": null,
   "metadata": {},
   "outputs": [],
   "source": [
    "all_candles = {}\n",
    "if not all_candles.get('AUDUSD_M15'):\n",
    "    all_candles['AUDUSD_M15'] = []\n",
    "all_candles['AUDUSD_M15'].extend(c for c in candles if 'datetime' in c.keys())"
   ]
  },
  {
   "cell_type": "code",
   "execution_count": null,
   "metadata": {},
   "outputs": [],
   "source": [
    "del all_candles"
   ]
  },
  {
   "cell_type": "code",
   "execution_count": null,
   "metadata": {},
   "outputs": [],
   "source": [
    "import json\n",
    "with open(\"candles.json\", \"w\") as outfile:\n",
    "    json.dump(all_candles, outfile, indent=2)"
   ]
  },
  {
   "cell_type": "code",
   "execution_count": null,
   "metadata": {},
   "outputs": [],
   "source": [
    "audusd_15 = all_candles['AUDUSD_M15']"
   ]
  },
  {
   "cell_type": "code",
   "execution_count": null,
   "metadata": {},
   "outputs": [],
   "source": [
    "audusd_15[200]"
   ]
  },
  {
   "cell_type": "code",
   "execution_count": 1,
   "metadata": {},
   "outputs": [
    {
     "name": "stderr",
     "output_type": "stream",
     "text": [
      "2023-11-20 00:14:05 - DEBUG - XTBApi.api - BaseClient inited\n",
      "2023-11-20 00:14:05 - INFO - XTBApi.api.Client - Client inited\n"
     ]
    },
    {
     "name": "stderr",
     "output_type": "stream",
     "text": [
      "2023-11-20 00:14:06 - DEBUG - XTBApi.api.Client - took 1.5383634567260742 s.\n",
      "2023-11-20 00:14:06 - INFO - XTBApi.api.Client - CMD: login...\n",
      "2023-11-20 00:14:06 - INFO - XTBApi.api.Client - CMD: get chart range request for EURUSD of 15 from 1700414045 to 1700414045 with ticks of -400...\n",
      "2023-11-20 00:14:06 - DEBUG - XTBApi.api.Client - took 0.008914470672607422 s.\n",
      "2023-11-20 00:14:07 - INFO - XTBApi.api.Client - CMD: done\n",
      "2023-11-20 00:14:07 - DEBUG - XTBApi.api.Client - {'rateInfos': [{'ctm': 1700054100000, 'ctmString': 'Nov 15, 2023, 2:15:00 PM', 'open': 108704.0, 'close': -18.0, 'high': 28.0, 'low': -35.0, 'vol': 13780.0}, {'ctm': 1700055000000, 'ctmString': 'Nov 15, 2023, 2:30:00 PM', 'open': 108691.0, 'close': -283.0, 'high': 156.0, 'low': -296.0, 'vol': 24611.0}, {'ctm': 1700055900000, 'ctmString': 'Nov 15, 2023, 2:45:00 PM', 'open': 108408.0, 'close': 175.0, 'high': 199.0, 'low': -15.0, 'vol': 18933.0}, {'ctm': 1700056800000, 'ctmString': 'Nov 15, 2023, 3:00:00 PM', 'open': 108584.0, 'close': -80.0, 'high': 20.0, 'low': -114.0, 'vol': 19502.0}, {'ctm': 1700057700000, 'ctmString': 'Nov 15, 2023, 3:15:00 PM', 'open': 108502.0, 'close': -26.0, 'high': 15.0, 'low': -66.0, 'vol': 16460.0}, {'ctm': 1700058600000, 'ctmString': 'Nov 15, 2023, 3:30:00 PM', 'open': 108475.0, 'close': -13.0, 'high': 59.0, 'low': -32.0, 'vol': 20262.0}, {'ctm': 1700059500000, 'ctmString': 'Nov 15, 2023, 3:45:00 PM', 'open': 108463.0, 'close': -109.0, 'high': 30.0, 'low': -154.0, 'vol': 20015.0}, {'ctm': 1700060400000, 'ctmString': 'Nov 15, 2023, 4:00:00 PM', 'open': 108353.0, 'close': 32.0, 'high': 85.0, 'low': -22.0, 'vol': 18800.0}, {'ctm': 1700061300000, 'ctmString': 'Nov 15, 2023, 4:15:00 PM', 'open': 108386.0, 'close': 44.0, 'high': 59.0, 'low': -3.0, 'vol': 15096.0}, {'ctm': 1700062200000, 'ctmString': 'Nov 15, 2023, 4:30:00 PM', 'open': 108433.0, 'close': 58.0, 'high': 97.0, 'low': -21.0, 'vol': 15404.0}, {'ctm': 1700063100000, 'ctmString': 'Nov 15, 2023, 4:45:00 PM', 'open': 108491.0, 'close': 155.0, 'high': 156.0, 'low': -2.0, 'vol': 17679.0}, {'ctm': 1700064000000, 'ctmString': 'Nov 15, 2023, 5:00:00 PM', 'open': 108647.0, 'close': -8.0, 'high': 34.0, 'low': -40.0, 'vol': 15005.0}, {'ctm': 1700064900000, 'ctmString': 'Nov 15, 2023, 5:15:00 PM', 'open': 108640.0, 'close': -13.0, 'high': 20.0, 'low': -28.0, 'vol': 11278.0}, {'ctm': 1700065800000, 'ctmString': 'Nov 15, 2023, 5:30:00 PM', 'open': 108627.0, 'close': -124.0, 'high': 15.0, 'low': -149.0, 'vol': 14503.0}, {'ctm': 1700066700000, 'ctmString': 'Nov 15, 2023, 5:45:00 PM', 'open': 108503.0, 'close': 12.0, 'high': 47.0, 'low': -12.0, 'vol': 11795.0}, {'ctm': 1700067600000, 'ctmString': 'Nov 15, 2023, 6:00:00 PM', 'open': 108516.0, 'close': -64.0, 'high': 6.0, 'low': -70.0, 'vol': 10129.0}, {'ctm': 1700068500000, 'ctmString': 'Nov 15, 2023, 6:15:00 PM', 'open': 108453.0, 'close': 62.0, 'high': 75.0, 'low': -28.0, 'vol': 9946.0}, {'ctm': 1700069400000, 'ctmString': 'Nov 15, 2023, 6:30:00 PM', 'open': 108512.0, 'close': 20.0, 'high': 46.0, 'low': -11.0, 'vol': 8528.0}, {'ctm': 1700070300000, 'ctmString': 'Nov 15, 2023, 6:45:00 PM', 'open': 108528.0, 'close': 6.0, 'high': 7.0, 'low': -49.0, 'vol': 8406.0}, {'ctm': 1700071200000, 'ctmString': 'Nov 15, 2023, 7:00:00 PM', 'open': 108533.0, 'close': -43.0, 'high': 6.0, 'low': -64.0, 'vol': 8883.0}, {'ctm': 1700072100000, 'ctmString': 'Nov 15, 2023, 7:15:00 PM', 'open': 108492.0, 'close': -26.0, 'high': 14.0, 'low': -37.0, 'vol': 7993.0}, {'ctm': 1700073000000, 'ctmString': 'Nov 15, 2023, 7:30:00 PM', 'open': 108466.0, 'close': -32.0, 'high': 3.0, 'low': -51.0, 'vol': 7815.0}, {'ctm': 1700073900000, 'ctmString': 'Nov 15, 2023, 7:45:00 PM', 'open': 108434.0, 'close': 19.0, 'high': 30.0, 'low': -16.0, 'vol': 7549.0}, {'ctm': 1700074800000, 'ctmString': 'Nov 15, 2023, 8:00:00 PM', 'open': 108454.0, 'close': -14.0, 'high': 5.0, 'low': -27.0, 'vol': 6784.0}, {'ctm': 1700075700000, 'ctmString': 'Nov 15, 2023, 8:15:00 PM', 'open': 108439.0, 'close': 21.0, 'high': 23.0, 'low': -35.0, 'vol': 6421.0}, {'ctm': 1700076600000, 'ctmString': 'Nov 15, 2023, 8:30:00 PM', 'open': 108461.0, 'close': 7.0, 'high': 14.0, 'low': -15.0, 'vol': 6596.0}, {'ctm': 1700077500000, 'ctmString': 'Nov 15, 2023, 8:45:00 PM', 'open': 108468.0, 'close': -14.0, 'high': 5.0, 'low': -25.0, 'vol': 7639.0}, {'ctm': 1700078400000, 'ctmString': 'Nov 15, 2023, 9:00:00 PM', 'open': 108456.0, 'close': -2.0, 'high': 8.0, 'low': -22.0, 'vol': 7331.0}, {'ctm': 1700079300000, 'ctmString': 'Nov 15, 2023, 9:15:00 PM', 'open': 108453.0, 'close': -4.0, 'high': 9.0, 'low': -19.0, 'vol': 6146.0}, {'ctm': 1700080200000, 'ctmString': 'Nov 15, 2023, 9:30:00 PM', 'open': 108448.0, 'close': -7.0, 'high': 12.0, 'low': -19.0, 'vol': 5918.0}, {'ctm': 1700081100000, 'ctmString': 'Nov 15, 2023, 9:45:00 PM', 'open': 108442.0, 'close': -17.0, 'high': 0.0, 'low': -24.0, 'vol': 7923.0}, {'ctm': 1700082000000, 'ctmString': 'Nov 15, 2023, 10:00:00 PM', 'open': 108425.0, 'close': 19.0, 'high': 33.0, 'low': -5.0, 'vol': 4570.0}, {'ctm': 1700082900000, 'ctmString': 'Nov 15, 2023, 10:15:00 PM', 'open': 108444.0, 'close': 9.0, 'high': 16.0, 'low': -1.0, 'vol': 2484.0}, {'ctm': 1700083800000, 'ctmString': 'Nov 15, 2023, 10:30:00 PM', 'open': 108454.0, 'close': 9.0, 'high': 10.0, 'low': -10.0, 'vol': 1645.0}, {'ctm': 1700084700000, 'ctmString': 'Nov 15, 2023, 10:45:00 PM', 'open': 108462.0, 'close': 1.0, 'high': 10.0, 'low': -19.0, 'vol': 3214.0}, {'ctm': 1700085600000, 'ctmString': 'Nov 15, 2023, 11:00:00 PM', 'open': 108463.0, 'close': 3.0, 'high': 12.0, 'low': -33.0, 'vol': 184.0}, {'ctm': 1700086500000, 'ctmString': 'Nov 15, 2023, 11:15:00 PM', 'open': 108466.0, 'close': 4.0, 'high': 4.0, 'low': -20.0, 'vol': 253.0}, {'ctm': 1700087400000, 'ctmString': 'Nov 15, 2023, 11:30:00 PM', 'open': 108470.0, 'close': 0.0, 'high': 37.0, 'low': -24.0, 'vol': 1191.0}, {'ctm': 1700088300000, 'ctmString': 'Nov 15, 2023, 11:45:00 PM', 'open': 108470.0, 'close': -2.0, 'high': 16.0, 'low': -12.0, 'vol': 3553.0}, {'ctm': 1700089200000, 'ctmString': 'Nov 16, 2023, 12:00:00 AM', 'open': 108470.0, 'close': 12.0, 'high': 30.0, 'low': 0.0, 'vol': 564.0}, {'ctm': 1700090100000, 'ctmString': 'Nov 16, 2023, 12:15:00 AM', 'open': 108483.0, 'close': -6.0, 'high': 7.0, 'low': -8.0, 'vol': 2313.0}, {'ctm': 1700091000000, 'ctmString': 'Nov 16, 2023, 12:30:00 AM', 'open': 108476.0, 'close': 21.0, 'high': 24.0, 'low': -1.0, 'vol': 1415.0}, {'ctm': 1700091900000, 'ctmString': 'Nov 16, 2023, 12:45:00 AM', 'open': 108497.0, 'close': 38.0, 'high': 39.0, 'low': 0.0, 'vol': 1674.0}, {'ctm': 1700092800000, 'ctmString': 'Nov 16, 2023, 1:00:00 AM', 'open': 108536.0, 'close': -8.0, 'high': 8.0, 'low': -33.0, 'vol': 3554.0}, {'ctm': 1700093700000, 'ctmString': 'Nov 16, 2023, 1:15:00 AM', 'open': 108528.0, 'close': 5.0, 'high': 19.0, 'low': -6.0, 'vol': 3214.0}, {'ctm': 1700094600000, 'ctmString': 'Nov 16, 2023, 1:30:00 AM', 'open': 108533.0, 'close': -21.0, 'high': 16.0, 'low': -27.0, 'vol': 5187.0}, {'ctm': 1700095500000, 'ctmString': 'Nov 16, 2023, 1:45:00 AM', 'open': 108512.0, 'close': 35.0, 'high': 36.0, 'low': -4.0, 'vol': 5245.0}, {'ctm': 1700096400000, 'ctmString': 'Nov 16, 2023, 2:00:00 AM', 'open': 108547.0, 'close': -77.0, 'high': 6.0, 'low': -78.0, 'vol': 5877.0}, {'ctm': 1700097300000, 'ctmString': 'Nov 16, 2023, 2:15:00 AM', 'open': 108470.0, 'close': -15.0, 'high': 16.0, 'low': -24.0, 'vol': 5921.0}, {'ctm': 1700098200000, 'ctmString': 'Nov 16, 2023, 2:30:00 AM', 'open': 108455.0, 'close': -15.0, 'high': 1.0, 'low': -39.0, 'vol': 7253.0}, {'ctm': 1700099100000, 'ctmString': 'Nov 16, 2023, 2:45:00 AM', 'open': 108441.0, 'close': -8.0, 'high': 6.0, 'low': -27.0, 'vol': 7042.0}, {'ctm': 1700100000000, 'ctmString': 'Nov 16, 2023, 3:00:00 AM', 'open': 108433.0, 'close': -31.0, 'high': 2.0, 'low': -56.0, 'vol': 7640.0}, {'ctm': 1700100900000, 'ctmString': 'Nov 16, 2023, 3:15:00 AM', 'open': 108402.0, 'close': -24.0, 'high': 22.0, 'low': -28.0, 'vol': 5883.0}, {'ctm': 1700101800000, 'ctmString': 'Nov 16, 2023, 3:30:00 AM', 'open': 108379.0, 'close': -18.0, 'high': 4.0, 'low': -85.0, 'vol': 6412.0}, {'ctm': 1700102700000, 'ctmString': 'Nov 16, 2023, 3:45:00 AM', 'open': 108361.0, 'close': -31.0, 'high': 3.0, 'low': -49.0, 'vol': 5573.0}, {'ctm': 1700103600000, 'ctmString': 'Nov 16, 2023, 4:00:00 AM', 'open': 108329.0, 'close': 15.0, 'high': 24.0, 'low': -9.0, 'vol': 4729.0}, {'ctm': 1700104500000, 'ctmString': 'Nov 16, 2023, 4:15:00 AM', 'open': 108344.0, 'close': -27.0, 'high': 3.0, 'low': -27.0, 'vol': 3485.0}, {'ctm': 1700105400000, 'ctmString': 'Nov 16, 2023, 4:30:00 AM', 'open': 108318.0, 'close': 5.0, 'high': 18.0, 'low': -8.0, 'vol': 4004.0}, {'ctm': 1700106300000, 'ctmString': 'Nov 16, 2023, 4:45:00 AM', 'open': 108322.0, 'close': -3.0, 'high': 13.0, 'low': -7.0, 'vol': 3554.0}, {'ctm': 1700107200000, 'ctmString': 'Nov 16, 2023, 5:00:00 AM', 'open': 108319.0, 'close': 11.0, 'high': 21.0, 'low': -3.0, 'vol': 3390.0}, {'ctm': 1700108100000, 'ctmString': 'Nov 16, 2023, 5:15:00 AM', 'open': 108330.0, 'close': -6.0, 'high': 12.0, 'low': -13.0, 'vol': 3352.0}, {'ctm': 1700109000000, 'ctmString': 'Nov 16, 2023, 5:30:00 AM', 'open': 108325.0, 'close': 14.0, 'high': 18.0, 'low': -2.0, 'vol': 2239.0}, {'ctm': 1700109900000, 'ctmString': 'Nov 16, 2023, 5:45:00 AM', 'open': 108339.0, 'close': 26.0, 'high': 29.0, 'low': -1.0, 'vol': 2601.0}, {'ctm': 1700110800000, 'ctmString': 'Nov 16, 2023, 6:00:00 AM', 'open': 108365.0, 'close': 11.0, 'high': 12.0, 'low': -15.0, 'vol': 3823.0}, {'ctm': 1700111700000, 'ctmString': 'Nov 16, 2023, 6:15:00 AM', 'open': 108375.0, 'close': 5.0, 'high': 15.0, 'low': -4.0, 'vol': 2964.0}, {'ctm': 1700112600000, 'ctmString': 'Nov 16, 2023, 6:30:00 AM', 'open': 108379.0, 'close': -16.0, 'high': 7.0, 'low': -17.0, 'vol': 3073.0}, {'ctm': 1700113500000, 'ctmString': 'Nov 16, 2023, 6:45:00 AM', 'open': 108362.0, 'close': 13.0, 'high': 14.0, 'low': -33.0, 'vol': 4155.0}, {'ctm': 1700114400000, 'ctmString': 'Nov 16, 2023, 7:00:00 AM', 'open': 108375.0, 'close': 2.0, 'high': 15.0, 'low': -11.0, 'vol': 4623.0}, {'ctm': 1700115300000, 'ctmString': 'Nov 16, 2023, 7:15:00 AM', 'open': 108377.0, 'close': -2.0, 'high': 26.0, 'low': -8.0, 'vol': 4359.0}, {'ctm': 1700116200000, 'ctmString': 'Nov 16, 2023, 7:30:00 AM', 'open': 108375.0, 'close': 13.0, 'high': 20.0, 'low': -17.0, 'vol': 4630.0}, {'ctm': 1700117100000, 'ctmString': 'Nov 16, 2023, 7:45:00 AM', 'open': 108389.0, 'close': -4.0, 'high': 15.0, 'low': -20.0, 'vol': 4779.0}, {'ctm': 1700118000000, 'ctmString': 'Nov 16, 2023, 8:00:00 AM', 'open': 108384.0, 'close': -15.0, 'high': 27.0, 'low': -33.0, 'vol': 8006.0}, {'ctm': 1700118900000, 'ctmString': 'Nov 16, 2023, 8:15:00 AM', 'open': 108369.0, 'close': 8.0, 'high': 10.0, 'low': -27.0, 'vol': 6224.0}, {'ctm': 1700119800000, 'ctmString': 'Nov 16, 2023, 8:30:00 AM', 'open': 108377.0, 'close': 31.0, 'high': 33.0, 'low': -44.0, 'vol': 7254.0}, {'ctm': 1700120700000, 'ctmString': 'Nov 16, 2023, 8:45:00 AM', 'open': 108408.0, 'close': -7.0, 'high': 46.0, 'low': -7.0, 'vol': 9001.0}, {'ctm': 1700121600000, 'ctmString': 'Nov 16, 2023, 9:00:00 AM', 'open': 108402.0, 'close': 25.0, 'high': 43.0, 'low': -25.0, 'vol': 13191.0}, {'ctm': 1700122500000, 'ctmString': 'Nov 16, 2023, 9:15:00 AM', 'open': 108427.0, 'close': 62.0, 'high': 76.0, 'low': -3.0, 'vol': 10398.0}, {'ctm': 1700123400000, 'ctmString': 'Nov 16, 2023, 9:30:00 AM', 'open': 108489.0, 'close': -1.0, 'high': 51.0, 'low': -17.0, 'vol': 10811.0}, {'ctm': 1700124300000, 'ctmString': 'Nov 16, 2023, 9:45:00 AM', 'open': 108488.0, 'close': 56.0, 'high': 57.0, 'low': -5.0, 'vol': 10653.0}, {'ctm': 1700125200000, 'ctmString': 'Nov 16, 2023, 10:00:00 AM', 'open': 108543.0, 'close': 18.0, 'high': 30.0, 'low': -18.0, 'vol': 10925.0}, {'ctm': 1700126100000, 'ctmString': 'Nov 16, 2023, 10:15:00 AM', 'open': 108562.0, 'close': -12.0, 'high': 39.0, 'low': -34.0, 'vol': 8657.0}, {'ctm': 1700127000000, 'ctmString': 'Nov 16, 2023, 10:30:00 AM', 'open': 108550.0, 'close': -45.0, 'high': 36.0, 'low': -48.0, 'vol': 8330.0}, {'ctm': 1700127900000, 'ctmString': 'Nov 16, 2023, 10:45:00 AM', 'open': 108505.0, 'close': 0.0, 'high': 14.0, 'low': -32.0, 'vol': 8939.0}, {'ctm': 1700128800000, 'ctmString': 'Nov 16, 2023, 11:00:00 AM', 'open': 108503.0, 'close': -28.0, 'high': 6.0, 'low': -42.0, 'vol': 8829.0}, {'ctm': 1700129700000, 'ctmString': 'Nov 16, 2023, 11:15:00 AM', 'open': 108474.0, 'close': 6.0, 'high': 22.0, 'low': -8.0, 'vol': 7032.0}, {'ctm': 1700130600000, 'ctmString': 'Nov 16, 2023, 11:30:00 AM', 'open': 108479.0, 'close': -16.0, 'high': 4.0, 'low': -52.0, 'vol': 8325.0}, {'ctm': 1700131500000, 'ctmString': 'Nov 16, 2023, 11:45:00 AM', 'open': 108463.0, 'close': -19.0, 'high': 31.0, 'low': -39.0, 'vol': 7998.0}, {'ctm': 1700132400000, 'ctmString': 'Nov 16, 2023, 12:00:00 PM', 'open': 108444.0, 'close': 45.0, 'high': 64.0, 'low': -4.0, 'vol': 7051.0}, {'ctm': 1700133300000, 'ctmString': 'Nov 16, 2023, 12:15:00 PM', 'open': 108489.0, 'close': 76.0, 'high': 88.0, 'low': -4.0, 'vol': 6899.0}, {'ctm': 1700134200000, 'ctmString': 'Nov 16, 2023, 12:30:00 PM', 'open': 108564.0, 'close': -62.0, 'high': 12.0, 'low': -65.0, 'vol': 6720.0}, {'ctm': 1700135100000, 'ctmString': 'Nov 16, 2023, 12:45:00 PM', 'open': 108503.0, 'close': 13.0, 'high': 14.0, 'low': -23.0, 'vol': 7222.0}, {'ctm': 1700136000000, 'ctmString': 'Nov 16, 2023, 1:00:00 PM', 'open': 108517.0, 'close': -59.0, 'high': 9.0, 'low': -81.0, 'vol': 9105.0}, {'ctm': 1700136900000, 'ctmString': 'Nov 16, 2023, 1:15:00 PM', 'open': 108457.0, 'close': -36.0, 'high': 26.0, 'low': -72.0, 'vol': 9519.0}, {'ctm': 1700137800000, 'ctmString': 'Nov 16, 2023, 1:30:00 PM', 'open': 108419.0, 'close': 21.0, 'high': 41.0, 'low': -11.0, 'vol': 7761.0}, {'ctm': 1700138700000, 'ctmString': 'Nov 16, 2023, 1:45:00 PM', 'open': 108440.0, 'close': -21.0, 'high': 20.0, 'low': -31.0, 'vol': 8069.0}, {'ctm': 1700139600000, 'ctmString': 'Nov 16, 2023, 2:00:00 PM', 'open': 108419.0, 'close': 14.0, 'high': 70.0, 'low': -9.0, 'vol': 10805.0}, {'ctm': 1700140500000, 'ctmString': 'Nov 16, 2023, 2:15:00 PM', 'open': 108435.0, 'close': 34.0, 'high': 67.0, 'low': -19.0, 'vol': 11641.0}, {'ctm': 1700141400000, 'ctmString': 'Nov 16, 2023, 2:30:00 PM', 'open': 108468.0, 'close': 265.0, 'high': 281.0, 'low': 0.0, 'vol': 21242.0}, {'ctm': 1700142300000, 'ctmString': 'Nov 16, 2023, 2:45:00 PM', 'open': 108733.0, 'close': 71.0, 'high': 75.0, 'low': -9.0, 'vol': 17914.0}, {'ctm': 1700143200000, 'ctmString': 'Nov 16, 2023, 3:00:00 PM', 'open': 108804.0, 'close': -53.0, 'high': 2.0, 'low': -70.0, 'vol': 14717.0}, {'ctm': 1700144100000, 'ctmString': 'Nov 16, 2023, 3:15:00 PM', 'open': 108751.0, 'close': -131.0, 'high': 37.0, 'low': -174.0, 'vol': 18512.0}, {'ctm': 1700145000000, 'ctmString': 'Nov 16, 2023, 3:30:00 PM', 'open': 108621.0, 'close': 63.0, 'high': 91.0, 'low': -5.0, 'vol': 18884.0}, {'ctm': 1700145900000, 'ctmString': 'Nov 16, 2023, 3:45:00 PM', 'open': 108685.0, 'close': 71.0, 'high': 94.0, 'low': 0.0, 'vol': 18033.0}, {'ctm': 1700146800000, 'ctmString': 'Nov 16, 2023, 4:00:00 PM', 'open': 108757.0, 'close': 130.0, 'high': 160.0, 'low': 0.0, 'vol': 18810.0}, {'ctm': 1700147700000, 'ctmString': 'Nov 16, 2023, 4:15:00 PM', 'open': 108887.0, 'close': 15.0, 'high': 56.0, 'low': -60.0, 'vol': 18021.0}, {'ctm': 1700148600000, 'ctmString': 'Nov 16, 2023, 4:30:00 PM', 'open': 108903.0, 'close': -158.0, 'high': 47.0, 'low': -159.0, 'vol': 18615.0}, {'ctm': 1700149500000, 'ctmString': 'Nov 16, 2023, 4:45:00 PM', 'open': 108745.0, 'close': 31.0, 'high': 47.0, 'low': -34.0, 'vol': 17684.0}, {'ctm': 1700150400000, 'ctmString': 'Nov 16, 2023, 5:00:00 PM', 'open': 108776.0, 'close': -15.0, 'high': 47.0, 'low': -24.0, 'vol': 15507.0}, {'ctm': 1700151300000, 'ctmString': 'Nov 16, 2023, 5:15:00 PM', 'open': 108761.0, 'close': -214.0, 'high': 0.0, 'low': -230.0, 'vol': 16146.0}, {'ctm': 1700152200000, 'ctmString': 'Nov 16, 2023, 5:30:00 PM', 'open': 108546.0, 'close': -68.0, 'high': 16.0, 'low': -70.0, 'vol': 12705.0}, {'ctm': 1700153100000, 'ctmString': 'Nov 16, 2023, 5:45:00 PM', 'open': 108480.0, 'close': 13.0, 'high': 57.0, 'low': -24.0, 'vol': 12500.0}, {'ctm': 1700154000000, 'ctmString': 'Nov 16, 2023, 6:00:00 PM', 'open': 108493.0, 'close': 46.0, 'high': 53.0, 'low': -27.0, 'vol': 10360.0}, {'ctm': 1700154900000, 'ctmString': 'Nov 16, 2023, 6:15:00 PM', 'open': 108540.0, 'close': 27.0, 'high': 28.0, 'low': -20.0, 'vol': 9963.0}, {'ctm': 1700155800000, 'ctmString': 'Nov 16, 2023, 6:30:00 PM', 'open': 108566.0, 'close': 5.0, 'high': 26.0, 'low': -26.0, 'vol': 8598.0}, {'ctm': 1700156700000, 'ctmString': 'Nov 16, 2023, 6:45:00 PM', 'open': 108571.0, 'close': 21.0, 'high': 31.0, 'low': -7.0, 'vol': 6760.0}, {'ctm': 1700157600000, 'ctmString': 'Nov 16, 2023, 7:00:00 PM', 'open': 108592.0, 'close': 30.0, 'high': 58.0, 'low': -1.0, 'vol': 8298.0}, {'ctm': 1700158500000, 'ctmString': 'Nov 16, 2023, 7:15:00 PM', 'open': 108622.0, 'close': -37.0, 'high': 6.0, 'low': -64.0, 'vol': 7454.0}, {'ctm': 1700159400000, 'ctmString': 'Nov 16, 2023, 7:30:00 PM', 'open': 108587.0, 'close': 39.0, 'high': 52.0, 'low': -7.0, 'vol': 6975.0}, {'ctm': 1700160300000, 'ctmString': 'Nov 16, 2023, 7:45:00 PM', 'open': 108626.0, 'close': -43.0, 'high': 0.0, 'low': -60.0, 'vol': 6499.0}, {'ctm': 1700161200000, 'ctmString': 'Nov 16, 2023, 8:00:00 PM', 'open': 108583.0, 'close': -43.0, 'high': 12.0, 'low': -56.0, 'vol': 7141.0}, {'ctm': 1700162100000, 'ctmString': 'Nov 16, 2023, 8:15:00 PM', 'open': 108540.0, 'close': -10.0, 'high': 20.0, 'low': -26.0, 'vol': 5940.0}, {'ctm': 1700163000000, 'ctmString': 'Nov 16, 2023, 8:30:00 PM', 'open': 108529.0, 'close': 21.0, 'high': 64.0, 'low': 0.0, 'vol': 6409.0}, {'ctm': 1700163900000, 'ctmString': 'Nov 16, 2023, 8:45:00 PM', 'open': 108550.0, 'close': -2.0, 'high': 9.0, 'low': -37.0, 'vol': 7934.0}, {'ctm': 1700164800000, 'ctmString': 'Nov 16, 2023, 9:00:00 PM', 'open': 108550.0, 'close': -33.0, 'high': 25.0, 'low': -33.0, 'vol': 7430.0}, {'ctm': 1700165700000, 'ctmString': 'Nov 16, 2023, 9:15:00 PM', 'open': 108517.0, 'close': -47.0, 'high': 1.0, 'low': -47.0, 'vol': 5994.0}, {'ctm': 1700166600000, 'ctmString': 'Nov 16, 2023, 9:30:00 PM', 'open': 108471.0, 'close': -26.0, 'high': 14.0, 'low': -27.0, 'vol': 6440.0}, {'ctm': 1700167500000, 'ctmString': 'Nov 16, 2023, 9:45:00 PM', 'open': 108445.0, 'close': 11.0, 'high': 33.0, 'low': -2.0, 'vol': 6735.0}, {'ctm': 1700168400000, 'ctmString': 'Nov 16, 2023, 10:00:00 PM', 'open': 108455.0, 'close': 29.0, 'high': 30.0, 'low': 0.0, 'vol': 3435.0}, {'ctm': 1700169300000, 'ctmString': 'Nov 16, 2023, 10:15:00 PM', 'open': 108484.0, 'close': 0.0, 'high': 4.0, 'low': -11.0, 'vol': 3477.0}, {'ctm': 1700170200000, 'ctmString': 'Nov 16, 2023, 10:30:00 PM', 'open': 108484.0, 'close': 19.0, 'high': 20.0, 'low': -3.0, 'vol': 2428.0}, {'ctm': 1700171100000, 'ctmString': 'Nov 16, 2023, 10:45:00 PM', 'open': 108502.0, 'close': 12.0, 'high': 30.0, 'low': -1.0, 'vol': 2811.0}, {'ctm': 1700172000000, 'ctmString': 'Nov 16, 2023, 11:00:00 PM', 'open': 108515.0, 'close': -54.0, 'high': 0.0, 'low': -60.0, 'vol': 695.0}, {'ctm': 1700172900000, 'ctmString': 'Nov 16, 2023, 11:15:00 PM', 'open': 108455.0, 'close': 26.0, 'high': 26.0, 'low': -2.0, 'vol': 943.0}, {'ctm': 1700173800000, 'ctmString': 'Nov 16, 2023, 11:30:00 PM', 'open': 108481.0, 'close': 21.0, 'high': 37.0, 'low': -4.0, 'vol': 2717.0}, {'ctm': 1700174700000, 'ctmString': 'Nov 16, 2023, 11:45:00 PM', 'open': 108508.0, 'close': 16.0, 'high': 17.0, 'low': -6.0, 'vol': 712.0}, {'ctm': 1700175600000, 'ctmString': 'Nov 17, 2023, 12:00:00 AM', 'open': 108521.0, 'close': 16.0, 'high': 16.0, 'low': -13.0, 'vol': 895.0}, {'ctm': 1700176500000, 'ctmString': 'Nov 17, 2023, 12:15:00 AM', 'open': 108538.0, 'close': 13.0, 'high': 13.0, 'low': -7.0, 'vol': 839.0}, {'ctm': 1700177400000, 'ctmString': 'Nov 17, 2023, 12:30:00 AM', 'open': 108550.0, 'close': -6.0, 'high': 1.0, 'low': -10.0, 'vol': 757.0}, {'ctm': 1700178300000, 'ctmString': 'Nov 17, 2023, 12:45:00 AM', 'open': 108544.0, 'close': -19.0, 'high': 2.0, 'low': -21.0, 'vol': 807.0}, {'ctm': 1700179200000, 'ctmString': 'Nov 17, 2023, 1:00:00 AM', 'open': 108525.0, 'close': 5.0, 'high': 27.0, 'low': -5.0, 'vol': 2757.0}, {'ctm': 1700180100000, 'ctmString': 'Nov 17, 2023, 1:15:00 AM', 'open': 108530.0, 'close': -35.0, 'high': 0.0, 'low': -48.0, 'vol': 3512.0}, {'ctm': 1700181000000, 'ctmString': 'Nov 17, 2023, 1:30:00 AM', 'open': 108495.0, 'close': 1.0, 'high': 25.0, 'low': -3.0, 'vol': 3167.0}, {'ctm': 1700181900000, 'ctmString': 'Nov 17, 2023, 1:45:00 AM', 'open': 108499.0, 'close': 27.0, 'high': 40.0, 'low': -10.0, 'vol': 4409.0}, {'ctm': 1700182800000, 'ctmString': 'Nov 17, 2023, 2:00:00 AM', 'open': 108527.0, 'close': -3.0, 'high': 38.0, 'low': -6.0, 'vol': 6958.0}, {'ctm': 1700183700000, 'ctmString': 'Nov 17, 2023, 2:15:00 AM', 'open': 108524.0, 'close': 2.0, 'high': 13.0, 'low': -22.0, 'vol': 5964.0}, {'ctm': 1700184600000, 'ctmString': 'Nov 17, 2023, 2:30:00 AM', 'open': 108525.0, 'close': -3.0, 'high': 5.0, 'low': -26.0, 'vol': 5468.0}, {'ctm': 1700185500000, 'ctmString': 'Nov 17, 2023, 2:45:00 AM', 'open': 108522.0, 'close': 2.0, 'high': 33.0, 'low': -7.0, 'vol': 4799.0}, {'ctm': 1700186400000, 'ctmString': 'Nov 17, 2023, 3:00:00 AM', 'open': 108524.0, 'close': 11.0, 'high': 40.0, 'low': -6.0, 'vol': 4471.0}, {'ctm': 1700187300000, 'ctmString': 'Nov 17, 2023, 3:15:00 AM', 'open': 108534.0, 'close': -10.0, 'high': 8.0, 'low': -16.0, 'vol': 3979.0}, {'ctm': 1700188200000, 'ctmString': 'Nov 17, 2023, 3:30:00 AM', 'open': 108523.0, 'close': -29.0, 'high': 10.0, 'low': -35.0, 'vol': 4392.0}, {'ctm': 1700189100000, 'ctmString': 'Nov 17, 2023, 3:45:00 AM', 'open': 108494.0, 'close': 52.0, 'high': 61.0, 'low': 0.0, 'vol': 4750.0}, {'ctm': 1700190000000, 'ctmString': 'Nov 17, 2023, 4:00:00 AM', 'open': 108547.0, 'close': 14.0, 'high': 16.0, 'low': -8.0, 'vol': 4456.0}, {'ctm': 1700190900000, 'ctmString': 'Nov 17, 2023, 4:15:00 AM', 'open': 108561.0, 'close': -18.0, 'high': 3.0, 'low': -30.0, 'vol': 3543.0}, {'ctm': 1700191800000, 'ctmString': 'Nov 17, 2023, 4:30:00 AM', 'open': 108544.0, 'close': -3.0, 'high': 11.0, 'low': -18.0, 'vol': 3079.0}, {'ctm': 1700192700000, 'ctmString': 'Nov 17, 2023, 4:45:00 AM', 'open': 108542.0, 'close': -7.0, 'high': 9.0, 'low': -14.0, 'vol': 2510.0}, {'ctm': 1700193600000, 'ctmString': 'Nov 17, 2023, 5:00:00 AM', 'open': 108535.0, 'close': -14.0, 'high': 8.0, 'low': -16.0, 'vol': 2100.0}, {'ctm': 1700194500000, 'ctmString': 'Nov 17, 2023, 5:15:00 AM', 'open': 108521.0, 'close': 4.0, 'high': 13.0, 'low': -9.0, 'vol': 2390.0}, {'ctm': 1700195400000, 'ctmString': 'Nov 17, 2023, 5:30:00 AM', 'open': 108526.0, 'close': 14.0, 'high': 14.0, 'low': -3.0, 'vol': 2238.0}, {'ctm': 1700196300000, 'ctmString': 'Nov 17, 2023, 5:45:00 AM', 'open': 108540.0, 'close': -42.0, 'high': 0.0, 'low': -43.0, 'vol': 2310.0}, {'ctm': 1700197200000, 'ctmString': 'Nov 17, 2023, 6:00:00 AM', 'open': 108499.0, 'close': -5.0, 'high': 8.0, 'low': -10.0, 'vol': 3450.0}, {'ctm': 1700198100000, 'ctmString': 'Nov 17, 2023, 6:15:00 AM', 'open': 108494.0, 'close': -4.0, 'high': 12.0, 'low': -15.0, 'vol': 2903.0}, {'ctm': 1700199000000, 'ctmString': 'Nov 17, 2023, 6:30:00 AM', 'open': 108490.0, 'close': 10.0, 'high': 11.0, 'low': -16.0, 'vol': 3862.0}, {'ctm': 1700199900000, 'ctmString': 'Nov 17, 2023, 6:45:00 AM', 'open': 108500.0, 'close': 27.0, 'high': 53.0, 'low': -25.0, 'vol': 4995.0}, {'ctm': 1700200800000, 'ctmString': 'Nov 17, 2023, 7:00:00 AM', 'open': 108527.0, 'close': 10.0, 'high': 31.0, 'low': 0.0, 'vol': 4253.0}, {'ctm': 1700201700000, 'ctmString': 'Nov 17, 2023, 7:15:00 AM', 'open': 108536.0, 'close': -11.0, 'high': 6.0, 'low': -21.0, 'vol': 3969.0}, {'ctm': 1700202600000, 'ctmString': 'Nov 17, 2023, 7:30:00 AM', 'open': 108525.0, 'close': -19.0, 'high': 4.0, 'low': -21.0, 'vol': 3948.0}, {'ctm': 1700203500000, 'ctmString': 'Nov 17, 2023, 7:45:00 AM', 'open': 108507.0, 'close': -1.0, 'high': 28.0, 'low': -1.0, 'vol': 4232.0}, {'ctm': 1700204400000, 'ctmString': 'Nov 17, 2023, 8:00:00 AM', 'open': 108506.0, 'close': -70.0, 'high': 2.0, 'low': -99.0, 'vol': 9122.0}, {'ctm': 1700205300000, 'ctmString': 'Nov 17, 2023, 8:15:00 AM', 'open': 108437.0, 'close': -35.0, 'high': 1.0, 'low': -67.0, 'vol': 7569.0}, {'ctm': 1700206200000, 'ctmString': 'Nov 17, 2023, 8:30:00 AM', 'open': 108403.0, 'close': -47.0, 'high': 2.0, 'low': -57.0, 'vol': 8292.0}, {'ctm': 1700207100000, 'ctmString': 'Nov 17, 2023, 8:45:00 AM', 'open': 108358.0, 'close': 20.0, 'high': 41.0, 'low': -8.0, 'vol': 7379.0}, {'ctm': 1700208000000, 'ctmString': 'Nov 17, 2023, 9:00:00 AM', 'open': 108379.0, 'close': -83.0, 'high': 0.0, 'low': -138.0, 'vol': 14996.0}, {'ctm': 1700208900000, 'ctmString': 'Nov 17, 2023, 9:15:00 AM', 'open': 108295.0, 'close': 68.0, 'high': 83.0, 'low': -1.0, 'vol': 11054.0}, {'ctm': 1700209800000, 'ctmString': 'Nov 17, 2023, 9:30:00 AM', 'open': 108363.0, 'close': 60.0, 'high': 68.0, 'low': -40.0, 'vol': 13063.0}, {'ctm': 1700210700000, 'ctmString': 'Nov 17, 2023, 9:45:00 AM', 'open': 108425.0, 'close': 50.0, 'high': 63.0, 'low': -36.0, 'vol': 14262.0}, {'ctm': 1700211600000, 'ctmString': 'Nov 17, 2023, 10:00:00 AM', 'open': 108476.0, 'close': 83.0, 'high': 84.0, 'low': -31.0, 'vol': 14897.0}, {'ctm': 1700212500000, 'ctmString': 'Nov 17, 2023, 10:15:00 AM', 'open': 108558.0, 'close': -36.0, 'high': 9.0, 'low': -88.0, 'vol': 12325.0}, {'ctm': 1700213400000, 'ctmString': 'Nov 17, 2023, 10:30:00 AM', 'open': 108523.0, 'close': 43.0, 'high': 54.0, 'low': -9.0, 'vol': 9457.0}, {'ctm': 1700214300000, 'ctmString': 'Nov 17, 2023, 10:45:00 AM', 'open': 108566.0, 'close': -44.0, 'high': 11.0, 'low': -47.0, 'vol': 9506.0}, {'ctm': 1700215200000, 'ctmString': 'Nov 17, 2023, 11:00:00 AM', 'open': 108523.0, 'close': 89.0, 'high': 98.0, 'low': -14.0, 'vol': 11688.0}, {'ctm': 1700216100000, 'ctmString': 'Nov 17, 2023, 11:15:00 AM', 'open': 108613.0, 'close': 49.0, 'high': 57.0, 'low': -16.0, 'vol': 11007.0}, {'ctm': 1700217000000, 'ctmString': 'Nov 17, 2023, 11:30:00 AM', 'open': 108661.0, 'close': 13.0, 'high': 18.0, 'low': -52.0, 'vol': 10283.0}, {'ctm': 1700217900000, 'ctmString': 'Nov 17, 2023, 11:45:00 AM', 'open': 108674.0, 'close': 27.0, 'high': 33.0, 'low': -37.0, 'vol': 10260.0}, {'ctm': 1700218800000, 'ctmString': 'Nov 17, 2023, 12:00:00 PM', 'open': 108701.0, 'close': -2.0, 'high': 39.0, 'low': -23.0, 'vol': 10329.0}, {'ctm': 1700219700000, 'ctmString': 'Nov 17, 2023, 12:15:00 PM', 'open': 108698.0, 'close': 34.0, 'high': 35.0, 'low': -29.0, 'vol': 10217.0}, {'ctm': 1700220600000, 'ctmString': 'Nov 17, 2023, 12:30:00 PM', 'open': 108732.0, 'close': -141.0, 'high': 0.0, 'low': -151.0, 'vol': 10448.0}, {'ctm': 1700221500000, 'ctmString': 'Nov 17, 2023, 12:45:00 PM', 'open': 108592.0, 'close': 63.0, 'high': 76.0, 'low': 0.0, 'vol': 9309.0}, {'ctm': 1700222400000, 'ctmString': 'Nov 17, 2023, 1:00:00 PM', 'open': 108654.0, 'close': 1.0, 'high': 27.0, 'low': -44.0, 'vol': 8738.0}, {'ctm': 1700223300000, 'ctmString': 'Nov 17, 2023, 1:15:00 PM', 'open': 108653.0, 'close': -31.0, 'high': 11.0, 'low': -86.0, 'vol': 8795.0}, {'ctm': 1700224200000, 'ctmString': 'Nov 17, 2023, 1:30:00 PM', 'open': 108622.0, 'close': 45.0, 'high': 54.0, 'low': -17.0, 'vol': 9244.0}, {'ctm': 1700225100000, 'ctmString': 'Nov 17, 2023, 1:45:00 PM', 'open': 108667.0, 'close': -41.0, 'high': 14.0, 'low': -65.0, 'vol': 10133.0}, {'ctm': 1700226000000, 'ctmString': 'Nov 17, 2023, 2:00:00 PM', 'open': 108628.0, 'close': 128.0, 'high': 136.0, 'low': -14.0, 'vol': 12068.0}, {'ctm': 1700226900000, 'ctmString': 'Nov 17, 2023, 2:15:00 PM', 'open': 108756.0, 'close': -49.0, 'high': 0.0, 'low': -76.0, 'vol': 12852.0}, {'ctm': 1700227800000, 'ctmString': 'Nov 17, 2023, 2:30:00 PM', 'open': 108708.0, 'close': -67.0, 'high': 60.0, 'low': -94.0, 'vol': 17496.0}, {'ctm': 1700228700000, 'ctmString': 'Nov 17, 2023, 2:45:00 PM', 'open': 108638.0, 'close': 66.0, 'high': 88.0, 'low': -30.0, 'vol': 15967.0}, {'ctm': 1700229600000, 'ctmString': 'Nov 17, 2023, 3:00:00 PM', 'open': 108705.0, 'close': 22.0, 'high': 135.0, 'low': -9.0, 'vol': 15564.0}, {'ctm': 1700230500000, 'ctmString': 'Nov 17, 2023, 3:15:00 PM', 'open': 108728.0, 'close': -44.0, 'high': 26.0, 'low': -58.0, 'vol': 15342.0}, {'ctm': 1700231400000, 'ctmString': 'Nov 17, 2023, 3:30:00 PM', 'open': 108685.0, 'close': -30.0, 'high': 73.0, 'low': -106.0, 'vol': 19843.0}, {'ctm': 1700232300000, 'ctmString': 'Nov 17, 2023, 3:45:00 PM', 'open': 108655.0, 'close': 32.0, 'high': 37.0, 'low': -44.0, 'vol': 16392.0}, {'ctm': 1700233200000, 'ctmString': 'Nov 17, 2023, 4:00:00 PM', 'open': 108687.0, 'close': 22.0, 'high': 50.0, 'low': -9.0, 'vol': 15897.0}, {'ctm': 1700234100000, 'ctmString': 'Nov 17, 2023, 4:15:00 PM', 'open': 108710.0, 'close': 80.0, 'high': 81.0, 'low': -1.0, 'vol': 15446.0}, {'ctm': 1700235000000, 'ctmString': 'Nov 17, 2023, 4:30:00 PM', 'open': 108790.0, 'close': 75.0, 'high': 110.0, 'low': -18.0, 'vol': 15032.0}, {'ctm': 1700235900000, 'ctmString': 'Nov 17, 2023, 4:45:00 PM', 'open': 108864.0, 'close': -3.0, 'high': 64.0, 'low': -14.0, 'vol': 14100.0}, {'ctm': 1700236800000, 'ctmString': 'Nov 17, 2023, 5:00:00 PM', 'open': 108862.0, 'close': 2.0, 'high': 30.0, 'low': -53.0, 'vol': 13848.0}, {'ctm': 1700237700000, 'ctmString': 'Nov 17, 2023, 5:15:00 PM', 'open': 108864.0, 'close': -54.0, 'high': 16.0, 'low': -90.0, 'vol': 12990.0}, {'ctm': 1700238600000, 'ctmString': 'Nov 17, 2023, 5:30:00 PM', 'open': 108810.0, 'close': -50.0, 'high': 4.0, 'low': -68.0, 'vol': 12712.0}, {'ctm': 1700239500000, 'ctmString': 'Nov 17, 2023, 5:45:00 PM', 'open': 108760.0, 'close': 18.0, 'high': 39.0, 'low': -17.0, 'vol': 10200.0}, {'ctm': 1700240400000, 'ctmString': 'Nov 17, 2023, 6:00:00 PM', 'open': 108778.0, 'close': 85.0, 'high': 86.0, 'low': -4.0, 'vol': 9833.0}, {'ctm': 1700241300000, 'ctmString': 'Nov 17, 2023, 6:15:00 PM', 'open': 108864.0, 'close': -49.0, 'high': 13.0, 'low': -54.0, 'vol': 8792.0}, {'ctm': 1700242200000, 'ctmString': 'Nov 17, 2023, 6:30:00 PM', 'open': 108815.0, 'close': 66.0, 'high': 90.0, 'low': 0.0, 'vol': 6909.0}, {'ctm': 1700243100000, 'ctmString': 'Nov 17, 2023, 6:45:00 PM', 'open': 108882.0, 'close': 14.0, 'high': 16.0, 'low': -21.0, 'vol': 6249.0}, {'ctm': 1700244000000, 'ctmString': 'Nov 17, 2023, 7:00:00 PM', 'open': 108896.0, 'close': 18.0, 'high': 22.0, 'low': -17.0, 'vol': 6117.0}, {'ctm': 1700244900000, 'ctmString': 'Nov 17, 2023, 7:15:00 PM', 'open': 108915.0, 'close': 21.0, 'high': 38.0, 'low': -1.0, 'vol': 7104.0}, {'ctm': 1700245800000, 'ctmString': 'Nov 17, 2023, 7:30:00 PM', 'open': 108935.0, 'close': 34.0, 'high': 43.0, 'low': 0.0, 'vol': 6000.0}, {'ctm': 1700246700000, 'ctmString': 'Nov 17, 2023, 7:45:00 PM', 'open': 108969.0, 'close': 57.0, 'high': 71.0, 'low': -11.0, 'vol': 7126.0}, {'ctm': 1700247600000, 'ctmString': 'Nov 17, 2023, 8:00:00 PM', 'open': 109026.0, 'close': -34.0, 'high': 4.0, 'low': -42.0, 'vol': 6874.0}, {'ctm': 1700248500000, 'ctmString': 'Nov 17, 2023, 8:15:00 PM', 'open': 108991.0, 'close': 11.0, 'high': 26.0, 'low': -3.0, 'vol': 5196.0}, {'ctm': 1700249400000, 'ctmString': 'Nov 17, 2023, 8:30:00 PM', 'open': 109002.0, 'close': -26.0, 'high': 9.0, 'low': -28.0, 'vol': 5807.0}, {'ctm': 1700250300000, 'ctmString': 'Nov 17, 2023, 8:45:00 PM', 'open': 108975.0, 'close': 15.0, 'high': 22.0, 'low': -27.0, 'vol': 7351.0}, {'ctm': 1700251200000, 'ctmString': 'Nov 17, 2023, 9:00:00 PM', 'open': 108990.0, 'close': 14.0, 'high': 15.0, 'low': -24.0, 'vol': 5315.0}, {'ctm': 1700252100000, 'ctmString': 'Nov 17, 2023, 9:15:00 PM', 'open': 109004.0, 'close': 28.0, 'high': 39.0, 'low': -10.0, 'vol': 5605.0}, {'ctm': 1700253000000, 'ctmString': 'Nov 17, 2023, 9:30:00 PM', 'open': 109031.0, 'close': 0.0, 'high': 9.0, 'low': -31.0, 'vol': 6335.0}, {'ctm': 1700253900000, 'ctmString': 'Nov 17, 2023, 9:45:00 PM', 'open': 109033.0, 'close': 45.0, 'high': 52.0, 'low': -6.0, 'vol': 6170.0}], 'digits': 5, 'exemode': 1}\n",
      "2023-11-20 00:14:07 - DEBUG - XTBApi.api.Client - took 0.031168699264526367 s.\n",
      "2023-11-20 00:14:08 - INFO - XTBApi.api.Client - CMD: logout...\n"
     ]
    }
   ],
   "source": [
    "from XTBApi.api import Client\n",
    "from time import time\n",
    "now = int(time())\n",
    "\n",
    "user = (\"15351881\", \"wx+-jLk*9Be!a%*\")\n",
    "\n",
    "client = Client()\n",
    "client.login(user[0], user[1], mode='demo')\n",
    "# client.check_if_market_open(['EURUSD'])\n",
    "res = client.get_chart_range_request('EURUSD', 15, now, now, -400)\n",
    "rate_infos = res['rateInfos']\n",
    "rate_infos.sort(key=lambda x:x['ctm'])\n",
    "\n",
    "client.logout()"
   ]
  },
  {
   "cell_type": "code",
   "execution_count": null,
   "metadata": {},
   "outputs": [],
   "source": [
    "from datetime import datetime\n",
    "td = datetime.today()\n",
    "actual_tmsp = td.hour * 3600 + td.minute * 60 + td.second\n",
    "response = [{'symbol': 'GOLD', 'trading': [{'day': 2, 'fromT': 0, 'toT': 82800000}, {'day': 3, 'fromT': 0, 'toT': 82800000}, {'day': 4, 'fromT': 0, 'toT': 82800000}, {'day': 1, 'fromT': 0, 'toT': 82800000}, {'day': 5, 'fromT': 0, 'toT': 79200000}], 'quotes': [{'day': 1, 'fromT': 0, 'toT': 82800000}, {'day': 4, 'fromT': 0, 'toT': 82800000}, {'day': 5, 'fromT': 0, 'toT': 79200000}, {'day': 3, 'fromT': 0, 'toT': 82800000}, {'day': 2, 'fromT': 0, 'toT': 82800000}]}]\n",
    "market_values = {}\n",
    "for symbol in response:\n",
    "    today_values = [day for day in symbol['trading'] if day['day'] ==\n",
    "        td.isoweekday()]\n",
    "    if not today_values:\n",
    "        market_values[symbol['symbol']] = False\n",
    "        continue\n",
    "    today_values = today_values[0]\n",
    "    if today_values['fromT'] <= actual_tmsp <= today_values['toT']:\n",
    "        market_values[symbol['symbol']] = True\n",
    "    else:\n",
    "        market_values[symbol['symbol']] = False"
   ]
  },
  {
   "cell_type": "code",
   "execution_count": null,
   "metadata": {},
   "outputs": [],
   "source": [
    "from datetime import datetime\n",
    "today = datetime.today()\n",
    "hh = int(today.hour) % 2 == 1\n",
    "mm = int(today.minute) % 5 == 0\n",
    "print(f'{today}: hh={hh}, mm={mm}')"
   ]
  },
  {
   "cell_type": "code",
   "execution_count": 8,
   "metadata": {},
   "outputs": [],
   "source": [
    "ctm = [c['ctm'] for c in rate_infos]"
   ]
  },
  {
   "cell_type": "code",
   "execution_count": 14,
   "metadata": {},
   "outputs": [],
   "source": [
    "ck = [a-b for a, b in zip(ctm, ctm_shift)]\n",
    "ck[0] = ck[1]"
   ]
  },
  {
   "cell_type": "code",
   "execution_count": 2,
   "metadata": {},
   "outputs": [],
   "source": [
    "import pandas as pd\n",
    "import pandas_ta as ta\n",
    "\n",
    "candles = pd.DataFrame(rate_infos)\n",
    "candles['close'] = candles['close'] + candles['open']\n",
    "tech = [\n",
    "        {\"kind\": \"ema\", \"length\": 25,  \"col_names\": \"EMA_25\"},\n",
    "        {\"kind\": \"ema\", \"length\": 50,  \"col_names\": \"EMA_50\"},\n",
    "        {\"kind\": \"ema\", \"length\": 100, \"col_names\": \"EMA_100\"},\n",
    "        {\"kind\": \"ema\", \"length\": 200, \"col_names\": \"EMA_200\"},\n",
    "    ]\n",
    "\n",
    "# Create your own Custom Strategy\n",
    "CustomStrategy = ta.Strategy(\n",
    "    name=\"Momo and Volatility\",\n",
    "    description=\"EMA 25,50,100,200 and RSI\",\n",
    "    ta=tech\n",
    ")\n",
    "# To run your \"Custom Strategy\"\n",
    "candles.ta.strategy(CustomStrategy)\n",
    "candles.dropna(inplace=True, ignore_index=True)"
   ]
  },
  {
   "cell_type": "code",
   "execution_count": 3,
   "metadata": {},
   "outputs": [
    {
     "data": {
      "text/html": [
       "<div>\n",
       "<style scoped>\n",
       "    .dataframe tbody tr th:only-of-type {\n",
       "        vertical-align: middle;\n",
       "    }\n",
       "\n",
       "    .dataframe tbody tr th {\n",
       "        vertical-align: top;\n",
       "    }\n",
       "\n",
       "    .dataframe thead th {\n",
       "        text-align: right;\n",
       "    }\n",
       "</style>\n",
       "<table border=\"1\" class=\"dataframe\">\n",
       "  <thead>\n",
       "    <tr style=\"text-align: right;\">\n",
       "      <th></th>\n",
       "      <th>ctm</th>\n",
       "      <th>ctmString</th>\n",
       "      <th>open</th>\n",
       "      <th>close</th>\n",
       "      <th>high</th>\n",
       "      <th>low</th>\n",
       "      <th>vol</th>\n",
       "      <th>EMA_25</th>\n",
       "      <th>EMA_50</th>\n",
       "      <th>EMA_100</th>\n",
       "      <th>EMA_200</th>\n",
       "    </tr>\n",
       "  </thead>\n",
       "  <tbody>\n",
       "    <tr>\n",
       "      <th>0</th>\n",
       "      <td>1700233200000</td>\n",
       "      <td>Nov 17, 2023, 4:00:00 PM</td>\n",
       "      <td>108687.0</td>\n",
       "      <td>108709.0</td>\n",
       "      <td>50.0</td>\n",
       "      <td>-9.0</td>\n",
       "      <td>15897.0</td>\n",
       "      <td>108643.402748</td>\n",
       "      <td>108599.301826</td>\n",
       "      <td>108562.236589</td>\n",
       "      <td>108514.870000</td>\n",
       "    </tr>\n",
       "    <tr>\n",
       "      <th>1</th>\n",
       "      <td>1700234100000</td>\n",
       "      <td>Nov 17, 2023, 4:15:00 PM</td>\n",
       "      <td>108710.0</td>\n",
       "      <td>108790.0</td>\n",
       "      <td>81.0</td>\n",
       "      <td>-1.0</td>\n",
       "      <td>15446.0</td>\n",
       "      <td>108654.679460</td>\n",
       "      <td>108606.780186</td>\n",
       "      <td>108566.746756</td>\n",
       "      <td>108517.607612</td>\n",
       "    </tr>\n",
       "    <tr>\n",
       "      <th>2</th>\n",
       "      <td>1700235000000</td>\n",
       "      <td>Nov 17, 2023, 4:30:00 PM</td>\n",
       "      <td>108790.0</td>\n",
       "      <td>108865.0</td>\n",
       "      <td>110.0</td>\n",
       "      <td>-18.0</td>\n",
       "      <td>15032.0</td>\n",
       "      <td>108670.857963</td>\n",
       "      <td>108616.906453</td>\n",
       "      <td>108572.652761</td>\n",
       "      <td>108521.064253</td>\n",
       "    </tr>\n",
       "    <tr>\n",
       "      <th>3</th>\n",
       "      <td>1700235900000</td>\n",
       "      <td>Nov 17, 2023, 4:45:00 PM</td>\n",
       "      <td>108864.0</td>\n",
       "      <td>108861.0</td>\n",
       "      <td>64.0</td>\n",
       "      <td>-14.0</td>\n",
       "      <td>14100.0</td>\n",
       "      <td>108685.484274</td>\n",
       "      <td>108626.478749</td>\n",
       "      <td>108578.362607</td>\n",
       "      <td>108524.446698</td>\n",
       "    </tr>\n",
       "    <tr>\n",
       "      <th>4</th>\n",
       "      <td>1700236800000</td>\n",
       "      <td>Nov 17, 2023, 5:00:00 PM</td>\n",
       "      <td>108862.0</td>\n",
       "      <td>108864.0</td>\n",
       "      <td>30.0</td>\n",
       "      <td>-53.0</td>\n",
       "      <td>13848.0</td>\n",
       "      <td>108699.216253</td>\n",
       "      <td>108635.793308</td>\n",
       "      <td>108584.018793</td>\n",
       "      <td>108527.825338</td>\n",
       "    </tr>\n",
       "  </tbody>\n",
       "</table>\n",
       "</div>"
      ],
      "text/plain": [
       "             ctm                 ctmString      open     close   high   low   \n",
       "0  1700233200000  Nov 17, 2023, 4:00:00 PM  108687.0  108709.0   50.0  -9.0  \\\n",
       "1  1700234100000  Nov 17, 2023, 4:15:00 PM  108710.0  108790.0   81.0  -1.0   \n",
       "2  1700235000000  Nov 17, 2023, 4:30:00 PM  108790.0  108865.0  110.0 -18.0   \n",
       "3  1700235900000  Nov 17, 2023, 4:45:00 PM  108864.0  108861.0   64.0 -14.0   \n",
       "4  1700236800000  Nov 17, 2023, 5:00:00 PM  108862.0  108864.0   30.0 -53.0   \n",
       "\n",
       "       vol         EMA_25         EMA_50        EMA_100        EMA_200  \n",
       "0  15897.0  108643.402748  108599.301826  108562.236589  108514.870000  \n",
       "1  15446.0  108654.679460  108606.780186  108566.746756  108517.607612  \n",
       "2  15032.0  108670.857963  108616.906453  108572.652761  108521.064253  \n",
       "3  14100.0  108685.484274  108626.478749  108578.362607  108524.446698  \n",
       "4  13848.0  108699.216253  108635.793308  108584.018793  108527.825338  "
      ]
     },
     "execution_count": 3,
     "metadata": {},
     "output_type": "execute_result"
    }
   ],
   "source": [
    "candles.head()"
   ]
  },
  {
   "cell_type": "code",
   "execution_count": 4,
   "metadata": {},
   "outputs": [
    {
     "data": {
      "text/html": [
       "<div>\n",
       "<style scoped>\n",
       "    .dataframe tbody tr th:only-of-type {\n",
       "        vertical-align: middle;\n",
       "    }\n",
       "\n",
       "    .dataframe tbody tr th {\n",
       "        vertical-align: top;\n",
       "    }\n",
       "\n",
       "    .dataframe thead th {\n",
       "        text-align: right;\n",
       "    }\n",
       "</style>\n",
       "<table border=\"1\" class=\"dataframe\">\n",
       "  <thead>\n",
       "    <tr style=\"text-align: right;\">\n",
       "      <th></th>\n",
       "      <th>ctm</th>\n",
       "      <th>ctmString</th>\n",
       "      <th>open</th>\n",
       "      <th>close</th>\n",
       "      <th>high</th>\n",
       "      <th>low</th>\n",
       "      <th>vol</th>\n",
       "      <th>EMA_25</th>\n",
       "      <th>EMA_50</th>\n",
       "      <th>EMA_100</th>\n",
       "      <th>EMA_200</th>\n",
       "    </tr>\n",
       "  </thead>\n",
       "  <tbody>\n",
       "    <tr>\n",
       "      <th>19</th>\n",
       "      <td>1700250300000</td>\n",
       "      <td>Nov 17, 2023, 8:45:00 PM</td>\n",
       "      <td>108975.0</td>\n",
       "      <td>108990.0</td>\n",
       "      <td>22.0</td>\n",
       "      <td>-27.0</td>\n",
       "      <td>7351.0</td>\n",
       "      <td>108862.413792</td>\n",
       "      <td>108764.205944</td>\n",
       "      <td>108669.511493</td>\n",
       "      <td>108581.135979</td>\n",
       "    </tr>\n",
       "    <tr>\n",
       "      <th>20</th>\n",
       "      <td>1700251200000</td>\n",
       "      <td>Nov 17, 2023, 9:00:00 PM</td>\n",
       "      <td>108990.0</td>\n",
       "      <td>109004.0</td>\n",
       "      <td>15.0</td>\n",
       "      <td>-24.0</td>\n",
       "      <td>5315.0</td>\n",
       "      <td>108873.305038</td>\n",
       "      <td>108773.609632</td>\n",
       "      <td>108676.135027</td>\n",
       "      <td>108585.343582</td>\n",
       "    </tr>\n",
       "    <tr>\n",
       "      <th>21</th>\n",
       "      <td>1700252100000</td>\n",
       "      <td>Nov 17, 2023, 9:15:00 PM</td>\n",
       "      <td>109004.0</td>\n",
       "      <td>109032.0</td>\n",
       "      <td>39.0</td>\n",
       "      <td>-10.0</td>\n",
       "      <td>5605.0</td>\n",
       "      <td>108885.512343</td>\n",
       "      <td>108783.742588</td>\n",
       "      <td>108683.181858</td>\n",
       "      <td>108589.787924</td>\n",
       "    </tr>\n",
       "    <tr>\n",
       "      <th>22</th>\n",
       "      <td>1700253000000</td>\n",
       "      <td>Nov 17, 2023, 9:30:00 PM</td>\n",
       "      <td>109031.0</td>\n",
       "      <td>109031.0</td>\n",
       "      <td>9.0</td>\n",
       "      <td>-31.0</td>\n",
       "      <td>6335.0</td>\n",
       "      <td>108896.703701</td>\n",
       "      <td>108793.438957</td>\n",
       "      <td>108690.069346</td>\n",
       "      <td>108594.178094</td>\n",
       "    </tr>\n",
       "    <tr>\n",
       "      <th>23</th>\n",
       "      <td>1700253900000</td>\n",
       "      <td>Nov 17, 2023, 9:45:00 PM</td>\n",
       "      <td>109033.0</td>\n",
       "      <td>109078.0</td>\n",
       "      <td>52.0</td>\n",
       "      <td>-6.0</td>\n",
       "      <td>6170.0</td>\n",
       "      <td>108910.649570</td>\n",
       "      <td>108804.598214</td>\n",
       "      <td>108697.751142</td>\n",
       "      <td>108598.992242</td>\n",
       "    </tr>\n",
       "  </tbody>\n",
       "</table>\n",
       "</div>"
      ],
      "text/plain": [
       "              ctm                 ctmString      open     close  high   low   \n",
       "19  1700250300000  Nov 17, 2023, 8:45:00 PM  108975.0  108990.0  22.0 -27.0  \\\n",
       "20  1700251200000  Nov 17, 2023, 9:00:00 PM  108990.0  109004.0  15.0 -24.0   \n",
       "21  1700252100000  Nov 17, 2023, 9:15:00 PM  109004.0  109032.0  39.0 -10.0   \n",
       "22  1700253000000  Nov 17, 2023, 9:30:00 PM  109031.0  109031.0   9.0 -31.0   \n",
       "23  1700253900000  Nov 17, 2023, 9:45:00 PM  109033.0  109078.0  52.0  -6.0   \n",
       "\n",
       "       vol         EMA_25         EMA_50        EMA_100        EMA_200  \n",
       "19  7351.0  108862.413792  108764.205944  108669.511493  108581.135979  \n",
       "20  5315.0  108873.305038  108773.609632  108676.135027  108585.343582  \n",
       "21  5605.0  108885.512343  108783.742588  108683.181858  108589.787924  \n",
       "22  6335.0  108896.703701  108793.438957  108690.069346  108594.178094  \n",
       "23  6170.0  108910.649570  108804.598214  108697.751142  108598.992242  "
      ]
     },
     "execution_count": 4,
     "metadata": {},
     "output_type": "execute_result"
    }
   ],
   "source": [
    "candles.tail()"
   ]
  },
  {
   "cell_type": "code",
   "execution_count": null,
   "metadata": {},
   "outputs": [],
   "source": [
    "def is_align(candle):\n",
    "    if candle['EMA_25'] > candle['EMA_50'] > candle['EMA_100'] > candle['value']:\n",
    "        return 'Accurate'\n",
    "    return 'Not Accurate'"
   ]
  },
  {
   "cell_type": "code",
   "execution_count": 17,
   "metadata": {},
   "outputs": [],
   "source": [
    "def band(candle):\n",
    "    if candle['value']:\n",
    "        return 'Accurate'\n",
    "    return 'Not Accurate'"
   ]
  }
 ],
 "metadata": {
  "kernelspec": {
   "display_name": "Python 3",
   "language": "python",
   "name": "python3"
  },
  "language_info": {
   "codemirror_mode": {
    "name": "ipython",
    "version": 3
   },
   "file_extension": ".py",
   "mimetype": "text/x-python",
   "name": "python",
   "nbconvert_exporter": "python",
   "pygments_lexer": "ipython3",
   "version": "3.10.10"
  },
  "orig_nbformat": 4
 },
 "nbformat": 4,
 "nbformat_minor": 2
}
