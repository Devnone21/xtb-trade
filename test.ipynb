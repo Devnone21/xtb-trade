{
 "cells": [
  {
   "cell_type": "code",
   "execution_count": null,
   "metadata": {},
   "outputs": [],
   "source": [
    "all_candles = {}"
   ]
  },
  {
   "cell_type": "code",
   "execution_count": 14,
   "metadata": {},
   "outputs": [
    {
     "data": {
      "text/plain": [
       "True"
      ]
     },
     "execution_count": 14,
     "metadata": {},
     "output_type": "execute_result"
    }
   ],
   "source": [
    "from API import XTB\n",
    "\n",
    "API = XTB(\"15351881\", \"wx+-jLk*9Be!a%*\")\n",
    "\n",
    "#your code\n",
    "def process_symbol(key):\n",
    "    if not all_candles.get(key):\n",
    "        all_candles[key] = []\n",
    "    all_candles[key].extend(c for c in candles if 'datetime' in c.keys())\n",
    "\n",
    "# symbols = API.get_AllSymbols()\n",
    "symbol = ['AUDUSD', 'M15']\n",
    "symkey = '_'.join(symbol)\n",
    "candles = API.get_Candles(symbol[1], symbol[0], qty_candles=200)\n",
    "process_symbol(symkey)\n",
    "symbol = ['GOLD', 'M15']\n",
    "symkey = '_'.join(symbol)\n",
    "candles = API.get_Candles(symbol[1], symbol[0], qty_candles=200)\n",
    "process_symbol(symkey)\n",
    "\n",
    "API.logout()"
   ]
  },
  {
   "cell_type": "code",
   "execution_count": 6,
   "metadata": {},
   "outputs": [],
   "source": [
    "# all_symbols = {'all_symbols': symbols['returnData']}"
   ]
  },
  {
   "cell_type": "code",
   "execution_count": 12,
   "metadata": {},
   "outputs": [],
   "source": [
    "all_candles = {}\n",
    "if not all_candles.get('AUDUSD_M15'):\n",
    "    all_candles['AUDUSD_M15'] = []\n",
    "all_candles['AUDUSD_M15'].extend(c for c in candles if 'datetime' in c.keys())"
   ]
  },
  {
   "cell_type": "code",
   "execution_count": 11,
   "metadata": {},
   "outputs": [],
   "source": [
    "del all_candles"
   ]
  },
  {
   "cell_type": "code",
   "execution_count": 15,
   "metadata": {},
   "outputs": [],
   "source": [
    "import json\n",
    "with open(\"candles.json\", \"w\") as outfile:\n",
    "    json.dump(all_candles, outfile, indent=2)"
   ]
  },
  {
   "cell_type": "code",
   "execution_count": 20,
   "metadata": {},
   "outputs": [],
   "source": [
    "audusd_15 = all_candles['AUDUSD_M15']"
   ]
  },
  {
   "cell_type": "code",
   "execution_count": 24,
   "metadata": {},
   "outputs": [
    {
     "data": {
      "text/plain": [
       "{'datetime': 'Nov 8, 2023, 8:00:00 PM',\n",
       " 'open': 64088.0,\n",
       " 'close': 13.0,\n",
       " 'high': 25.0,\n",
       " 'low': -8.0}"
      ]
     },
     "execution_count": 24,
     "metadata": {},
     "output_type": "execute_result"
    }
   ],
   "source": [
    "audusd_15[200]"
   ]
  },
  {
   "cell_type": "code",
   "execution_count": 1,
   "metadata": {},
   "outputs": [
    {
     "name": "stderr",
     "output_type": "stream",
     "text": [
      "2023-11-13 23:00:20 - DEBUG - XTBApi.api - BaseClient inited\n",
      "2023-11-13 23:00:20 - INFO - XTBApi.api.Client - Client inited\n",
      "2023-11-13 23:00:21 - DEBUG - XTBApi.api.Client - took 1.645876169204712 s.\n",
      "2023-11-13 23:00:22 - INFO - XTBApi.api.Client - CMD: login...\n",
      "2023-11-13 23:00:22 - INFO - XTBApi.api.Client - CMD: get trading hours of len 1...\n",
      "2023-11-13 23:00:22 - DEBUG - XTBApi.api.Client - took 0.011892080307006836 s.\n",
      "2023-11-13 23:00:23 - INFO - XTBApi.api.Client - CMD: done\n",
      "2023-11-13 23:00:23 - DEBUG - XTBApi.api.Client - [{'symbol': 'EURUSD', 'trading': [{'day': 3, 'fromT': 0, 'toT': 86400000}, {'day': 1, 'fromT': 0, 'toT': 86400000}, {'day': 7, 'fromT': 82800000, 'toT': 86400000}, {'day': 5, 'fromT': 0, 'toT': 79200000}, {'day': 2, 'fromT': 0, 'toT': 86400000}, {'day': 4, 'fromT': 0, 'toT': 86400000}], 'quotes': [{'day': 2, 'fromT': 0, 'toT': 86400000}, {'day': 3, 'fromT': 0, 'toT': 86400000}, {'day': 4, 'fromT': 0, 'toT': 86400000}, {'day': 1, 'fromT': 0, 'toT': 86400000}, {'day': 5, 'fromT': 0, 'toT': 79200000}, {'day': 7, 'fromT': 82800000, 'toT': 86400000}]}]\n",
      "2023-11-13 23:00:23 - DEBUG - XTBApi.api.Client - {'EURUSD': True}\n",
      "2023-11-13 23:00:23 - DEBUG - XTBApi.api.Client - opening trade of EURUSD of 1 with BUY\n",
      "2023-11-13 23:00:23 - INFO - XTBApi.api.Client - CMD: get symbol EURUSD...\n",
      "2023-11-13 23:00:23 - DEBUG - XTBApi.api.Client - took 0.019646644592285156 s.\n",
      "2023-11-13 23:00:23 - INFO - XTBApi.api.Client - CMD: done\n",
      "2023-11-13 23:00:23 - DEBUG - XTBApi.api.Client - {'symbol': 'EURUSD', 'currency': 'EUR', 'categoryName': 'FX', 'currencyProfit': 'USD', 'quoteId': 5, 'quoteIdCross': 4, 'marginMode': 101, 'profitMode': 5, 'pipsPrecision': 4, 'contractSize': 100000, 'exemode': 1, 'time': 1699891223046, 'expiration': None, 'stopsLevel': 0, 'precision': 5, 'swapType': 3, 'stepRuleId': 5, 'type': 971, 'instantMaxVolume': 2147483647, 'groupName': 'Major', 'description': 'Euro to American Dollar', 'longOnly': False, 'trailingEnabled': True, 'marginHedgedStrong': False, 'swapEnable': True, 'percentage': 100.0, 'bid': 1.06892, 'ask': 1.06906, 'high': 1.07008, 'low': 1.06644, 'lotMin': 0.01, 'lotMax': 100.0, 'lotStep': 0.01, 'tickSize': 1e-05, 'tickValue': 1.0, 'swapLong': -0.006719, 'swapShort': 0.001167, 'leverage': 3.33, 'spreadRaw': 0.00014, 'spreadTable': 1.4, 'starting': None, 'swap_rollover3days': 0, 'marginMaintenance': 0, 'marginHedged': 0, 'initialMargin': 0, 'timeString': 'Mon Nov 13 17:00:23 CET 2023', 'shortSelling': True, 'currencyPair': True}\n",
      "2023-11-13 23:00:23 - INFO - XTBApi.api.Client - CMD: trade transaction of EURUSD of mode BUY with type OPEN of 1.0...\n",
      "2023-11-13 23:00:23 - DEBUG - XTBApi.api.Client - took 0.007641315460205078 s.\n",
      "2023-11-13 23:00:24 - INFO - XTBApi.api.Client - CMD: done\n",
      "2023-11-13 23:00:24 - DEBUG - XTBApi.api.Client - {'order': 564535581}\n",
      "2023-11-13 23:00:24 - INFO - XTBApi.api.Client - CMD: get trades...\n",
      "2023-11-13 23:00:24 - DEBUG - XTBApi.api.Client - took 0.006482601165771484 s.\n",
      "2023-11-13 23:00:24 - INFO - XTBApi.api.Client - CMD: done\n",
      "2023-11-13 23:00:24 - DEBUG - XTBApi.api.Client - [{'cmd': 0, 'order': 564535513, 'digits': 5, 'offset': 0, 'order2': 564535581, 'position': 564535513, 'symbol': 'EURUSD', 'comment': '', 'customComment': None, 'commission': 0.0, 'storage': 0.0, 'margin_rate': 0.0, 'close_price': 1.06893, 'open_price': 1.06908, 'nominalValue': 0.0, 'profit': -15.0, 'volume': 1.0, 'sl': 0.0, 'tp': 0.0, 'closed': False, 'timestamp': 1699891224646, 'spread': 0, 'taxes': 0.0, 'open_time': 1699891223944, 'open_timeString': 'Mon Nov 13 17:00:23 CET 2023', 'close_time': None, 'close_timeString': None, 'expiration': None, 'expirationString': None}]\n",
      "2023-11-13 23:00:24 - DEBUG - XTBApi.api - Transaction 564535513 inited\n",
      "2023-11-13 23:00:24 - INFO - XTBApi.api.Client - updated 1 trades\n",
      "2023-11-13 23:00:24 - INFO - XTBApi.api.Client - CMD: trade transaction status for 564535581...\n",
      "2023-11-13 23:00:24 - DEBUG - XTBApi.api.Client - took 0.03171086311340332 s.\n",
      "2023-11-13 23:00:25 - INFO - XTBApi.api.Client - CMD: done\n",
      "2023-11-13 23:00:25 - DEBUG - XTBApi.api.Client - {'order': 564535581, 'requestStatus': 3, 'message': None, 'customComment': None, 'ask': 1.06906, 'bid': 1.06906}\n",
      "2023-11-13 23:00:25 - DEBUG - XTBApi.api.Client - open_trade completed with status of 3\n",
      "2023-11-13 23:00:25 - DEBUG - XTBApi.api.Client - took 0.01860809326171875 s.\n",
      "2023-11-13 23:00:25 - INFO - XTBApi.api.Client - CMD: logout...\n"
     ]
    }
   ],
   "source": [
    "from XTBApi.api import Client\n",
    "\n",
    "user = (\"15351881\", \"wx+-jLk*9Be!a%*\")\n",
    "\n",
    "client = Client()\n",
    "client.login(user[0], user[1], mode='demo')\n",
    "client.check_if_market_open(['EURUSD'])\n",
    "client.open_trade('buy', 'EURUSD', 1)\n",
    "client.logout()"
   ]
  },
  {
   "cell_type": "code",
   "execution_count": 4,
   "metadata": {},
   "outputs": [],
   "source": [
    "from datetime import datetime\n",
    "td = datetime.today()\n",
    "actual_tmsp = td.hour * 3600 + td.minute * 60 + td.second\n",
    "response = [{'symbol': 'GOLD', 'trading': [{'day': 2, 'fromT': 0, 'toT': 82800000}, {'day': 3, 'fromT': 0, 'toT': 82800000}, {'day': 4, 'fromT': 0, 'toT': 82800000}, {'day': 1, 'fromT': 0, 'toT': 82800000}, {'day': 5, 'fromT': 0, 'toT': 79200000}], 'quotes': [{'day': 1, 'fromT': 0, 'toT': 82800000}, {'day': 4, 'fromT': 0, 'toT': 82800000}, {'day': 5, 'fromT': 0, 'toT': 79200000}, {'day': 3, 'fromT': 0, 'toT': 82800000}, {'day': 2, 'fromT': 0, 'toT': 82800000}]}]\n",
    "market_values = {}\n",
    "for symbol in response:\n",
    "    today_values = [day for day in symbol['trading'] if day['day'] ==\n",
    "        td.isoweekday()]\n",
    "    if not today_values:\n",
    "        market_values[symbol['symbol']] = False\n",
    "        continue\n",
    "    today_values = today_values[0]\n",
    "    if today_values['fromT'] <= actual_tmsp <= today_values['toT']:\n",
    "        market_values[symbol['symbol']] = True\n",
    "    else:\n",
    "        market_values[symbol['symbol']] = False"
   ]
  },
  {
   "cell_type": "code",
   "execution_count": 21,
   "metadata": {},
   "outputs": [
    {
     "name": "stdout",
     "output_type": "stream",
     "text": [
      "2023-11-13 23:52:10.248343: hh=True, mm=False\n"
     ]
    }
   ],
   "source": [
    "from datetime import datetime\n",
    "today = datetime.today()\n",
    "hh = int(today.hour) % 2 == 1\n",
    "mm = int(today.minute) % 5 == 0\n",
    "print(f'{today}: hh={hh}, mm={mm}')"
   ]
  }
 ],
 "metadata": {
  "kernelspec": {
   "display_name": "Python 3",
   "language": "python",
   "name": "python3"
  },
  "language_info": {
   "codemirror_mode": {
    "name": "ipython",
    "version": 3
   },
   "file_extension": ".py",
   "mimetype": "text/x-python",
   "name": "python",
   "nbconvert_exporter": "python",
   "pygments_lexer": "ipython3",
   "version": "3.10.10"
  },
  "orig_nbformat": 4
 },
 "nbformat": 4,
 "nbformat_minor": 2
}
